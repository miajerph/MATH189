{
 "cells": [
  {
   "cell_type": "markdown",
   "id": "200e3bab",
   "metadata": {
    "slideshow": {
     "slide_type": "slide"
    },
    "tags": []
   },
   "source": [
    "# Week 1\n",
    "## MATH 189 • Data Analysis & Inference • Sp 2024\n",
    "### Siddharth Vishwanath"
   ]
  },
  {
   "cell_type": "markdown",
   "id": "0bcfbb0d",
   "metadata": {
    "slideshow": {
     "slide_type": "skip"
    }
   },
   "source": [
    "# %load latexdefs.tex\n",
    "$$\n",
    "\\newcommand{\\sumn}{\\sum^{i=1}^n}\n",
    "\\newcommand{\\R}{\\mathbb{R}}\n",
    "\\newcommand{\\defeq}{\\stackrel{\\small\\bullet}{=}}\n",
    "\\newcommand{\\eq}[1]{\\begin{aligned}#1\\end{aligned}}\n",
    "\\newcommand{\\bea}{\\begin{aligned}}\n",
    "\\newcommand{\\eea}{\\end{aligned}}\n",
    "\\newcommand{\\tr}{^{\\top}}\n",
    "\\newcommand{\\ra}{\\rangle}\n",
    "\\newcommand{\\la}{\\langle}\n",
    "\\newcommand{\\pr}{{\\mathbb P}}\n",
    "\\newcommand{\\qr}{{\\mathbb Q}}\n",
    "\\newcommand{\\xv}{{\\boldsymbol{x}}}\n",
    "\\newcommand{\\av}{{\\boldsymbol{a}}}\n",
    "\\newcommand{\\bv}{{\\boldsymbol{b}}}\n",
    "\\newcommand{\\cv}{{\\boldsymbol{c}}}\n",
    "\\newcommand{\\dv}{{\\boldsymbol{d}}}\n",
    "\\newcommand{\\ev}{{\\boldsymbol{e}}}\n",
    "\\newcommand{\\fv}{{\\boldsymbol{f}}}\n",
    "\\newcommand{\\gv}{{\\boldsymbol{g}}}\n",
    "\\newcommand{\\hv}{{\\boldsymbol{h}}}\n",
    "\\newcommand{\\nv}{{\\boldsymbol{n}}}\n",
    "\\newcommand{\\sv}{{\\boldsymbol{s}}}\n",
    "\\newcommand{\\tv}{{\\boldsymbol{t}}}\n",
    "\\newcommand{\\uv}{{\\boldsymbol{u}}}\n",
    "\\newcommand{\\vv}{{\\boldsymbol{v}}}\n",
    "\\newcommand{\\wv}{{\\boldsymbol{w}}}\n",
    "\\newcommand{\\zerov}{{\\mathbf{0}}}\n",
    "\\newcommand{\\onev}{{\\mathbf{0}}}\n",
    "\\newcommand{\\phiv}{{\\boldsymbol{\\phi}}}\n",
    "\\newcommand{\\cc}{{\\check{C}}}\n",
    "% \\newcommand{\\xv}{{\\boldsymbol{x}}}\n",
    "\\newcommand{\\Xv}{{\\boldsymbol{X}\\!}}\n",
    "\\newcommand{\\yv}{{\\boldsymbol{y}}}\n",
    "\\newcommand{\\Yv}{{\\boldsymbol{Y}}}\n",
    "\\newcommand{\\zv}{{\\boldsymbol{z}}}\n",
    "\\newcommand{\\Zv}{{\\boldsymbol{Z}}}\n",
    "\\newcommand{\\Iv}{{\\boldsymbol{I}}}\n",
    "\\newcommand{\\Jv}{{\\boldsymbol{J}}}\n",
    "\\newcommand{\\Cv}{{\\boldsymbol{C}}}\n",
    "\\newcommand{\\Ev}{{\\boldsymbol{E}}}\n",
    "\\newcommand{\\Fv}{{\\boldsymbol{F}}}\n",
    "\\newcommand{\\Gv}{{\\boldsymbol{G}}}\n",
    "\\newcommand{\\Hv}{{\\boldsymbol{H}}}\n",
    "\\newcommand{\\alphav}{{\\boldsymbol{\\alpha}}}\n",
    "\\newcommand{\\epsilonv}{{\\boldsymbol{\\epsilon}}}\n",
    "\\newcommand{\\betav}{{\\boldsymbol{\\beta}}}\n",
    "\\newcommand{\\deltav}{{\\boldsymbol{\\delta}}}\n",
    "\\newcommand{\\gammav}{{\\boldsymbol{\\gamma}}}\n",
    "\\newcommand{\\etav}{{\\boldsymbol{\\eta}}}\n",
    "\\newcommand{\\piv}{{\\boldsymbol{\\pi}}}\n",
    "\\newcommand{\\thetav}{{\\boldsymbol{\\theta}}}\n",
    "\\newcommand{\\tauv}{{\\boldsymbol{\\tau}}}\n",
    "\\newcommand{\\muv}{{\\boldsymbol{\\mu}}}\n",
    "\\newcommand{\\sd}{\\text{SD}}\n",
    "\\newcommand{\\se}{\\text{SE}}\n",
    "\\newcommand{\\med}{\\text{median}}\n",
    "\\newcommand{\\median}{\\text{median}}\n",
    "\\newcommand{\\Ber}{{\\text{Ber}}}\n",
    "\\newcommand{\\Bin}{{\\text{Bin}}}\n",
    "\\newcommand{\\Geo}{{\\text{Geo}}}\n",
    "\\newcommand{\\Unif}{{\\text{Unif}}}\n",
    "\\newcommand{\\Poi}{{\\text{Poi}}}\n",
    "\\newcommand{\\Exp}{{\\text{Exp}}}\n",
    "\\newcommand{\\Chisq}{{\\chi^2}}\n",
    "\\renewcommand{\\N}{\\mathbb{N}}\n",
    "\\newcommand{\\iid}{{\\stackrel{iid}{\\sim}}}\n",
    "\\newcommand{\\px}{p^{X}}\n",
    "\\newcommand{\\fx}{f^{X}}\n",
    "\\newcommand{\\Fx}{F^{X}}\n",
    "\\newcommand{\\py}{p^{Y}}\n",
    "\\newcommand{\\pxy}{p^{X,Y}}\n",
    "\\newcommand{\\po}{{p^0}}\n",
    "\\newcommand{\\pa}{{p_a}}\n",
    "\\newcommand{\\Xbar}{\\overline{X}}\n",
    "\\newcommand{\\Ybar}{\\overline{Y}}\n",
    "\\newcommand{\\Zbar}{\\overline{Z}}\n",
    "\\newcommand{\\nXbar}{n \\cdot \\overline{X}}\n",
    "\\newcommand{\\nYbar}{n \\cdot \\overline{Y}}\n",
    "\\newcommand{\\nZbar}{n \\cdot \\overline{Z}}\n",
    "\\newcommand{\\Xn}{X_1, X_2, \\dots, X_n}\n",
    "\\newcommand{\\Xm}{{X_1, X_2, \\dots, X_m}}\n",
    "\\newcommand{\\Yn}{Y_1, Y_2, \\dots, Y_n}\n",
    "\\newcommand{\\Ym}{{Y_1, Y_2, \\dots, Y_m}}\n",
    "\\newcommand{\\sumXn}{X_1 + X_2 + \\dots + X_n}\n",
    "\\newcommand{\\sumym}{Y_1 + Y_2 + \\dots + Y_m}\n",
    "\\renewcommand{\\la}{\\ell_\\alpha}\n",
    "\\newcommand{\\ua}{u_\\alpha}\n",
    "\\newcommand{\\at}{{\\alpha/2}}\n",
    "\\newcommand{\\mux}{\\mu_{X}}\n",
    "\\newcommand{\\muy}{\\mu_{Y}}\n",
    "\\newcommand{\\sx}{\\sigma_{X}}\n",
    "\\newcommand{\\sy}{\\sigma_{Y}}\n",
    "\\newcommand{\\pvalue}{$p$-value}\n",
    "\\newcommand{\\Ho}{H_{0}}\n",
    "\\newcommand{\\Ha}{H_{a}}\n",
    "\\newcommand{\\betav}{\\boldsymbol{\\beta}}\n",
    "$$"
   ]
  },
  {
   "cell_type": "code",
   "execution_count": 1,
   "id": "26ea9fb2",
   "metadata": {
    "slideshow": {
     "slide_type": "skip"
    }
   },
   "outputs": [],
   "source": [
    "import numpy as np\n",
    "import math\n",
    "import pandas as pd\n",
    "import matplotlib.pyplot as plt\n",
    "import ipywidgets\n",
    "from ipywidgets import interact, interactive, fixed, interact_manual\n",
    "%matplotlib inline"
   ]
  },
  {
   "cell_type": "markdown",
   "id": "3b96abc1",
   "metadata": {
    "slideshow": {
     "slide_type": "slide"
    },
    "tags": []
   },
   "source": [
    "## Agenda\n",
    "---\n",
    "\n",
    "1. Introduction\n",
    "2. Course Logistics\n",
    "3. Basics of Markdown and $\\LaTeX$\n",
    "4. Linear Algebra Review\n",
    "    * Vectors, matrices, operations\n",
    "    * Eigenvalues and eigenvectors\n",
    "5. Review of Probability\n",
    "    * Probability, random variables, distributions\n",
    "    * Expectation, variance, covariance\n",
    "6. Data wrangling"
   ]
  },
  {
   "cell_type": "markdown",
   "id": "69f795f7",
   "metadata": {
    "slideshow": {
     "slide_type": "slide"
    }
   },
   "source": [
    "### Course Logistics\n",
    "\n",
    "* Jupyter notebooks:\n",
    "    * [Anaconda](https://www.anaconda.com/products/individual)\n",
    "    * [Anaconda Cloud](https://anaconda.cloud/getting-started)\n",
    "    * [UCSD DataHub](https://datahub.ucsd.edu/hub/spawn)\n",
    "    * [Google Colab](https://colab.google/)\n",
    "* [Course Information and Syllabus](https://canvas.ucsd.edu/courses/55191)\n",
    "* [Class Github repository](https://github.com/ucsd-math189/sp24)"
   ]
  },
  {
   "cell_type": "markdown",
   "id": "51ec6a07",
   "metadata": {},
   "source": [
    "This is a markdown cell"
   ]
  },
  {
   "cell_type": "markdown",
   "id": "d64e8936",
   "metadata": {
    "slideshow": {
     "slide_type": "slide"
    },
    "tags": []
   },
   "source": [
    "# Basics of Markdown and $\\LaTeX$"
   ]
  },
  {
   "cell_type": "markdown",
   "id": "fc67272f",
   "metadata": {
    "slideshow": {
     "slide_type": "slide"
    },
    "tags": []
   },
   "source": [
    "## §1.1: Creating sections for your document"
   ]
  },
  {
   "cell_type": "markdown",
   "id": "c268c5cf",
   "metadata": {},
   "source": [
    "## Level 2\n",
    "---\n",
    "### Level 3\n",
    "#### Level 4"
   ]
  },
  {
   "cell_type": "markdown",
   "id": "5b0f27a0",
   "metadata": {
    "slideshow": {
     "slide_type": "slide"
    },
    "tags": []
   },
   "source": [
    "## §1.2: Bullet Lists and Numbered Lists"
   ]
  },
  {
   "cell_type": "markdown",
   "id": "9dbc8cd3",
   "metadata": {},
   "source": [
    "This is a enumeration list:\n",
    "\n",
    "1. Item 1\n",
    "  1. Subitem 1\n",
    "        1. Subsubitem 1\n",
    "        1. SUbsubitem 2\n",
    "    1. Subitem 2\n",
    "1. Item 2\n",
    "1. Item 3"
   ]
  },
  {
   "cell_type": "markdown",
   "id": "55da0265",
   "metadata": {
    "slideshow": {
     "slide_type": "slide"
    },
    "tags": []
   },
   "source": [
    "## §1.3: Math"
   ]
  },
  {
   "cell_type": "markdown",
   "id": "c7583d11",
   "metadata": {},
   "source": [
    "This is a math display\n",
    "\n",
    "$$\n",
    "\\begin{aligned}\n",
    "\\text{Var}(X) \n",
    "&= \\mathbb{E} (X - \\mathbb{E}(X))^2\\\\\n",
    "&= \\frac{1}{n-1} \\sum_{i=1}^n (X_i - \\overline{X})^2 \\\\\n",
    "\\end{aligned}\n",
    "$$ \n",
    "\n",
    "where the sentence continues here"
   ]
  },
  {
   "cell_type": "markdown",
   "id": "c3f6d5ad",
   "metadata": {
    "slideshow": {
     "slide_type": "slide"
    },
    "tags": []
   },
   "source": [
    "### §1.3.1 Boxed & Colored Equations"
   ]
  },
  {
   "cell_type": "markdown",
   "id": "cf9370cf",
   "metadata": {},
   "source": [
    "This is the expression for the sample mean:\n",
    "\n",
    "this is inline math $\n",
    "% \\boxed{ \n",
    "    \\color{dodgerblue}{ \n",
    "        \\frac{1}{n}\\sum_{i=1}^n X_i = \\overline{X}\n",
    "     }\n",
    "%   }\n",
    "$ and the sentence continues here"
   ]
  },
  {
   "cell_type": "markdown",
   "id": "314fe046",
   "metadata": {
    "slideshow": {
     "slide_type": "slide"
    },
    "tags": []
   },
   "source": [
    "### §1.3.2 Math Macros"
   ]
  },
  {
   "cell_type": "markdown",
   "id": "b5427a86",
   "metadata": {},
   "source": [
    "$$\n",
    "\\newcommand{\\Xn}{X_1, X_2, \\cdots, X_n}\n",
    "\\newcommand{\\Dt}{D(\\theta)}\n",
    "$$\n",
    "\n",
    "$\\Xn$ is sampled iid from a distribution $\\Dt$"
   ]
  },
  {
   "cell_type": "markdown",
   "id": "7622ca48",
   "metadata": {
    "slideshow": {
     "slide_type": "slide"
    },
    "tags": []
   },
   "source": [
    "# §2. Basics of Python"
   ]
  },
  {
   "cell_type": "markdown",
   "id": "85f7cb1e",
   "metadata": {
    "slideshow": {
     "slide_type": "slide"
    },
    "tags": []
   },
   "source": [
    "## §2.1: Int, Float, Booleans, Strings"
   ]
  },
  {
   "cell_type": "code",
   "execution_count": 2,
   "id": "f2e319b6",
   "metadata": {},
   "outputs": [
    {
     "data": {
      "text/plain": [
       "'abcdefgh'"
      ]
     },
     "execution_count": 2,
     "metadata": {},
     "output_type": "execute_result"
    }
   ],
   "source": [
    "\"abcde\" + \"fgh\""
   ]
  },
  {
   "cell_type": "markdown",
   "id": "7f2ba2b1",
   "metadata": {
    "slideshow": {
     "slide_type": "slide"
    },
    "tags": []
   },
   "source": [
    "#### §2.1.2 Arithmetic operations (+, -, *, /, %, //, **)"
   ]
  },
  {
   "cell_type": "code",
   "execution_count": 3,
   "id": "8639833e",
   "metadata": {},
   "outputs": [
    {
     "data": {
      "text/plain": [
       "28561"
      ]
     },
     "execution_count": 3,
     "metadata": {},
     "output_type": "execute_result"
    }
   ],
   "source": [
    "13 ** 4"
   ]
  },
  {
   "cell_type": "markdown",
   "id": "9ab77dfa",
   "metadata": {
    "slideshow": {
     "slide_type": "slide"
    },
    "tags": []
   },
   "source": [
    "## §2.2: Arrays, Tuples, Dicts"
   ]
  },
  {
   "cell_type": "code",
   "execution_count": 4,
   "id": "945230e0",
   "metadata": {},
   "outputs": [
    {
     "data": {
      "text/plain": [
       "[1, 2, 3, 4, 5, 6]"
      ]
     },
     "execution_count": 4,
     "metadata": {},
     "output_type": "execute_result"
    }
   ],
   "source": [
    "## array\n",
    "[1, 2,  3] + [4, 5, 6]"
   ]
  },
  {
   "cell_type": "code",
   "execution_count": 5,
   "id": "7b3d2a23",
   "metadata": {},
   "outputs": [
    {
     "data": {
      "text/plain": [
       "tuple"
      ]
     },
     "execution_count": 5,
     "metadata": {},
     "output_type": "execute_result"
    }
   ],
   "source": [
    "## tuple\n",
    "type((1, 2, 3))"
   ]
  },
  {
   "cell_type": "code",
   "execution_count": 6,
   "id": "2e15ab48",
   "metadata": {},
   "outputs": [
    {
     "name": "stdout",
     "output_type": "stream",
     "text": [
      "k = a, v= 1\n",
      "k = b, v= 2\n",
      "k = c, v= 3.141592653589793\n"
     ]
    }
   ],
   "source": [
    "## dict\n",
    "for k, v in {\"a\": 1, \"b\": 2, \"c\": math.pi}.items():\n",
    "    print(f'k = {k}, v= {v}')"
   ]
  },
  {
   "cell_type": "code",
   "execution_count": 7,
   "id": "d54e494b",
   "metadata": {},
   "outputs": [
    {
     "data": {
      "text/plain": [
       "{1, 2, 3, 7}"
      ]
     },
     "execution_count": 7,
     "metadata": {},
     "output_type": "execute_result"
    }
   ],
   "source": [
    "## sets\n",
    "a = {1, 2, 3, 4, 4, 5}\n",
    "b = {4, 5, 7}\n",
    "a.symmetric_difference(b)"
   ]
  },
  {
   "cell_type": "markdown",
   "id": "d36c9c01",
   "metadata": {
    "slideshow": {
     "slide_type": "slide"
    },
    "tags": []
   },
   "source": [
    "## §2.3: Control Flow"
   ]
  },
  {
   "cell_type": "code",
   "execution_count": 8,
   "id": "a6725f84",
   "metadata": {},
   "outputs": [
    {
     "name": "stdout",
     "output_type": "stream",
     "text": [
      "1 is odd\n",
      "2 is even\n",
      "3 is odd\n",
      "4 is even\n",
      "5 is odd\n",
      "6 is even\n",
      "7 is odd\n",
      "8 is even\n",
      "9 is odd\n"
     ]
    }
   ],
   "source": [
    "## if-else\n",
    "for i in range(1, 10):\n",
    "    if i % 2 == 0:\n",
    "        print(f'{i} is even')\n",
    "    else:\n",
    "        print(f'{i} is odd')"
   ]
  },
  {
   "cell_type": "code",
   "execution_count": 9,
   "id": "a873e907",
   "metadata": {},
   "outputs": [
    {
     "name": "stdout",
     "output_type": "stream",
     "text": [
      "1 is odd\n",
      "2 is even\n",
      "3 is odd\n",
      "4 is a multiple of 4\n",
      "5 is odd\n",
      "6 is even\n",
      "7 is odd\n",
      "8 is a multiple of 4\n",
      "9 is odd\n"
     ]
    }
   ],
   "source": [
    "# if-elif-else\n",
    "for i in range(1, 10):\n",
    "    if i % 4 == 0:\n",
    "        print(f'{i} is a multiple of 4')\n",
    "    elif i % 2 == 0:\n",
    "        print(f'{i} is even')\n",
    "    else:\n",
    "        print(f'{i} is odd')"
   ]
  },
  {
   "cell_type": "code",
   "execution_count": 10,
   "id": "a9901ce3",
   "metadata": {},
   "outputs": [
    {
     "name": "stdout",
     "output_type": "stream",
     "text": [
      "n = 0\n",
      "n = 1\n",
      "n = 2\n",
      "n = 3\n",
      "n = 4\n",
      "n = 5\n",
      "n = 6\n",
      "n = 7\n",
      "n = 8\n",
      "n = 9\n"
     ]
    }
   ],
   "source": [
    "# while\n",
    "n = 0\n",
    "while n < 10:\n",
    "    print(f'n = {n}')\n",
    "    n += 1"
   ]
  },
  {
   "cell_type": "markdown",
   "id": "5db37b2e",
   "metadata": {
    "slideshow": {
     "slide_type": "slide"
    },
    "tags": []
   },
   "source": [
    "## §2.4: Functions"
   ]
  },
  {
   "cell_type": "code",
   "execution_count": 11,
   "id": "4f0dfbdb",
   "metadata": {},
   "outputs": [],
   "source": [
    "def fibonacci(n):\n",
    "    return 0 if n == 0 else 1 if n == 1 else fibonacci(n-1) + fibonacci(n-2)"
   ]
  },
  {
   "cell_type": "markdown",
   "id": "67d17af3",
   "metadata": {
    "slideshow": {
     "slide_type": "slide"
    },
    "tags": []
   },
   "source": [
    "## §2.4.1: Anonymous Functions"
   ]
  },
  {
   "cell_type": "code",
   "execution_count": 12,
   "id": "abfda2c6",
   "metadata": {},
   "outputs": [],
   "source": [
    "fib  = lambda n: 0 if n == 0 else 1 if n==1 else fib(n-1) + fib(n-2)"
   ]
  },
  {
   "cell_type": "markdown",
   "id": "801859d0",
   "metadata": {
    "slideshow": {
     "slide_type": "slide"
    },
    "tags": []
   },
   "source": [
    "# §3 Vectors and Linear Algebra"
   ]
  },
  {
   "cell_type": "code",
   "execution_count": 13,
   "id": "d040e5a0",
   "metadata": {
    "code_folding": [
     0,
     11,
     26,
     39,
     53,
     67
    ],
    "hide_input": false,
    "slideshow": {
     "slide_type": "skip"
    }
   },
   "outputs": [],
   "source": [
    "# These are plotting functions for the interactive visualizations\n",
    "def plot_v(v1, v2, v3):\n",
    "    fig = plt.figure()\n",
    "    ax = fig.add_subplot(111, projection='3d')\n",
    "    ax.quiver(0, 0, 0, v1, v2, v3)\n",
    "    ax.set_xlim([-3, 3]); ax.set_ylim([-3, 3]); ax.set_zlim([-3, 3])\n",
    "    ax.set_xlabel('X'); ax.set_ylabel('Y'); ax.set_zlabel('Z')\n",
    "    # camera angle\n",
    "    # ax.view_init(elev=20, azim=45)\n",
    "    plt.tight_layout()\n",
    "    plt.show()\n",
    "\n",
    "def plot_vw(v1, v2, v3, w1, w2, w3):\n",
    "    v = np.array([v1, v2, v3])\n",
    "    w = np.array([w1, w2, w3])\n",
    "    vw = v + w\n",
    "    fig = plt.figure()\n",
    "    ax = fig.add_subplot(111, projection='3d')\n",
    "    ax.quiver(0, 0, 0, *v)\n",
    "    ax.quiver(0, 0, 0, *w, color='black')\n",
    "    ax.quiver(0, 0, 0, *vw, color='red')\n",
    "    ax.set_xlim([-3, 3]); ax.set_ylim([-3, 3]); ax.set_zlim([-3, 3])\n",
    "    ax.set_xlabel('X'); ax.set_ylabel('Y'); ax.set_zlabel('Z')\n",
    "    # camera angle\n",
    "    # ax.view_init(elev=20, azim=45)\n",
    "    plt.show()\n",
    "  \n",
    "def plot_dotv(u1=1, u2=1, v1=1,v2=1):\n",
    "    u = np.array([u1, u2])\n",
    "    v = np.array([v1, v2])\n",
    "    uv = np.dot(u, v)\n",
    "    fig = plt.figure()\n",
    "    ax = fig.add_subplot(111)\n",
    "    ax.quiver(0, 0, *v, angles='xy', scale_units='xy', scale=1)\n",
    "    ax.quiver(0, 0, *u, angles='xy', scale_units='xy', scale=1)\n",
    "    ax.set_xlim([-3, 3]); ax.set_ylim([-3, 3])\n",
    "    ax.set_title(f'dot-product = {uv}')\n",
    "    plt.tight_layout()\n",
    "    plt.show()\n",
    "    \n",
    "def plot_crossv(u1=1, u2=1, v1=1,v2=1):\n",
    "    u = np.array([u1, u1, u2])\n",
    "    v = np.array([v1, 0, v2])\n",
    "    uv = np.cross(u, v)\n",
    "    fig = plt.figure()\n",
    "    ax = fig.add_subplot(111, projection='3d')\n",
    "    ax.quiver(0, 0, 0, *v,)\n",
    "    ax.quiver(0, 0, 0, *u,)\n",
    "    ax.quiver(0, 0, 0, *uv, color='red')\n",
    "    ax.set_xlim([-3, 3]); ax.set_ylim([-3, 3]); ax.set_zlim([-3, 3])\n",
    "    ax.set_title(f'cross-product = {uv}')\n",
    "    plt.tight_layout()\n",
    "    plt.show()\n",
    "\n",
    "def plot_Av(v1=1, v2=1, show_w=False):\n",
    "    # matrix on vector\n",
    "    w = A @ np.array([v1, v2])\n",
    "    fig = plt.figure()\n",
    "    ax = fig.add_subplot(111)\n",
    "    ax.quiver(0, 0, v1, v2, angles='xy', scale_units='xy', scale=1)\n",
    "    if show_w:\n",
    "        ax.quiver(0, 0, w[0], w[1], angles='xy', scale_units='xy', scale=1, color='red')\n",
    "    ax.set_xlim([-3, 3]); ax.set_ylim([-3, 3])\n",
    "    ax.set_xlabel('X'); ax.set_ylabel('Y')\n",
    "    plt.tight_layout()\n",
    "    plt.show()\n",
    "    print(f'A = \\n{A}')\n",
    "\n",
    "def plot_evec_multiplication(v1, v2, i, show_evec, show_av):\n",
    "    # i is the index of the eigenvector\n",
    "    # The matrix A is defined globally\n",
    "    eigvals, eigvecs = np.linalg.eig(A)\n",
    "    w = A @ np.array([v1, v2])\n",
    "    fig = plt.figure()\n",
    "    ax = fig.add_subplot(111)\n",
    "    ax.quiver(0, 0, v1, v2, angles='xy', scale_units='xy', scale=1)\n",
    "    if show_evec:\n",
    "        ax.quiver(0, 0, eigvecs[0, i], eigvecs[1, i], angles='xy', scale_units='xy', scale=1, color='red')\n",
    "    if show_av:\n",
    "        ax.quiver(0, 0, w[0], w[1], angles='xy', scale_units='xy', scale=1, color='green')\n",
    "    ax.set_xlim([-3, 3]); ax.set_ylim([-3, 3])\n",
    "    ax.set_xlabel('X'); ax.set_ylabel('Y')\n",
    "    plt.tight_layout()\n",
    "    plt.show()\n",
    "    print(f'w[{i}] = \\n{eigvecs[:, i]}')\n",
    "    print(f'λ[{i}] = {eigvals[i]}')"
   ]
  },
  {
   "cell_type": "markdown",
   "id": "7a20d73d",
   "metadata": {
    "slideshow": {
     "slide_type": "slide"
    },
    "tags": []
   },
   "source": [
    "## §3.1 Vectors"
   ]
  },
  {
   "cell_type": "markdown",
   "id": "92e6fa65",
   "metadata": {},
   "source": [
    "A vector $v \\in \\R^n$ represents a point \n",
    "\n",
    "$$\n",
    "v = (v_1, v_2, \\dots, v_n)\\tr\n",
    "$$\n",
    "\n",
    "in $n$-dimensional space where each $v_i$ is a number."
   ]
  },
  {
   "cell_type": "markdown",
   "id": "3d608c4f",
   "metadata": {},
   "source": [
    "<br></br><br></br><br></br>\n",
    "<br></br><br></br><br></br>"
   ]
  },
  {
   "cell_type": "code",
   "execution_count": 14,
   "id": "844505cf",
   "metadata": {
    "code_folding": []
   },
   "outputs": [
    {
     "data": {
      "application/vnd.jupyter.widget-view+json": {
       "model_id": "0de9d592aa794da4817834553531020c",
       "version_major": 2,
       "version_minor": 0
      },
      "text/plain": [
       "interactive(children=(FloatSlider(value=0.0, description='v1', max=3.5, min=-3.0, step=0.5), FloatSlider(value…"
      ]
     },
     "metadata": {},
     "output_type": "display_data"
    }
   ],
   "source": [
    "# plot a vector as an arrow in 3 space\n",
    "@interact(v1=(-3.0, 3.5, 0.5), v2=(-3.0, 3.5, 0.5), v3=(-3.0, 3.5, 0.5))\n",
    "def _(**kwargs):\n",
    "    plot_v(**kwargs)"
   ]
  },
  {
   "cell_type": "markdown",
   "id": "c9a2cb72",
   "metadata": {},
   "source": [
    "<br></br><br></br><br></br>\n",
    "<br></br><br></br><br></br>"
   ]
  },
  {
   "cell_type": "markdown",
   "id": "c0f9a1a9",
   "metadata": {},
   "source": [
    "Given two vectors \n",
    "\n",
    "$$\n",
    "\\eq{\n",
    "v &= (v_1, v_2, \\dots v_n)\\tr\\\\\n",
    "w &= (w_1, w_2, \\dots, w_n)\\tr\n",
    "}\n",
    "$$\n",
    "\n",
    "the addition of $v$ and $w$ is given by\n",
    "\n",
    "$$\n",
    "v+w = (v_1 + w_1, v_2 + w_2, \\dots, v_n + w_n)\\tr\n",
    "$$"
   ]
  },
  {
   "cell_type": "code",
   "execution_count": 15,
   "id": "fb6f737b",
   "metadata": {},
   "outputs": [
    {
     "data": {
      "text/plain": [
       "array([2, 4, 6])"
      ]
     },
     "execution_count": 15,
     "metadata": {},
     "output_type": "execute_result"
    }
   ],
   "source": [
    "# %pip install numpy\n",
    "import numpy as np\n",
    "\n",
    "v = np.array([1, 2, 3])\n",
    "w = np.array([1, 2, 3])\n",
    "v + w"
   ]
  },
  {
   "cell_type": "code",
   "execution_count": null,
   "id": "58aa26b2",
   "metadata": {},
   "outputs": [],
   "source": []
  },
  {
   "cell_type": "code",
   "execution_count": 16,
   "id": "ef8562f1",
   "metadata": {
    "code_folding": [],
    "hide_input": false
   },
   "outputs": [
    {
     "data": {
      "application/vnd.jupyter.widget-view+json": {
       "model_id": "a6406df67191404f953a088367d889b2",
       "version_major": 2,
       "version_minor": 0
      },
      "text/plain": [
       "interactive(children=(FloatSlider(value=0.0, description='v1', max=3.5, min=-3.0, step=0.5), FloatSlider(value…"
      ]
     },
     "metadata": {},
     "output_type": "display_data"
    }
   ],
   "source": [
    "# add two vectors\n",
    "@interact(\n",
    "    v1=(-3.0, 3.5, 0.5), v2=(-3.0, 3.5, 0.5), v3=(-3.0, 3.5, 0.5), \n",
    "    w1=(-3.0, 3.5, 0.5), w2=(-3.0, 3.5, 0.5), w3=(-3.0, 3.5, 0.5), \n",
    ")\n",
    "def _(**kwargs):\n",
    "    plot_vw(**kwargs)"
   ]
  },
  {
   "cell_type": "code",
   "execution_count": 17,
   "id": "2ac80788",
   "metadata": {},
   "outputs": [],
   "source": [
    "# Vector addition\n"
   ]
  },
  {
   "cell_type": "markdown",
   "id": "c8a89e09",
   "metadata": {},
   "source": [
    "### **Two types of \"products\" of vectors**"
   ]
  },
  {
   "cell_type": "markdown",
   "id": "c7a5c531",
   "metadata": {},
   "source": [
    "1. **dot product**\n",
    "\n",
    "The dot product of two vectors $u, v \\in \\R^n$ is the sum of the element-wise product\n",
    "\n",
    "$$\n",
    "u \\tr v = \\sum_{i=1}^n u_i v_i\n",
    "$$\n",
    "\n",
    "The geometric interpretation of the dot product is given by:\n",
    "\n",
    "$$\n",
    "u \\tr v = \\|{u}\\| \\|{v}\\| \\cos\\Big(\\angle \\theta(u, v)\\Big)\n",
    "$$"
   ]
  },
  {
   "cell_type": "code",
   "execution_count": 18,
   "id": "03ba7318",
   "metadata": {
    "code_folding": []
   },
   "outputs": [
    {
     "data": {
      "application/vnd.jupyter.widget-view+json": {
       "model_id": "19307d5f494249f29a03f0ea8c4c1a13",
       "version_major": 2,
       "version_minor": 0
      },
      "text/plain": [
       "interactive(children=(FloatSlider(value=0.0, description='u1', max=2.0, min=-2.0, step=0.5), FloatSlider(value…"
      ]
     },
     "metadata": {},
     "output_type": "display_data"
    }
   ],
   "source": [
    "@interact(u1=(-2, 2, 0.5), u2=(-2, 2, 0.5), v1=(-2, 2, 0.5), v2=(-2, 2, 0.5))\n",
    "def _(**kwargs):\n",
    "    plot_dotv(**kwargs)"
   ]
  },
  {
   "cell_type": "markdown",
   "id": "d7939908",
   "metadata": {},
   "source": [
    "\n",
    "<br></br><br></br><br></br>\n",
    "<br></br><br></br><br></br>"
   ]
  },
  {
   "cell_type": "markdown",
   "id": "5979797a",
   "metadata": {},
   "source": [
    "2. **cross product**\n",
    "\n",
    "The cross product of two vectors $u, v \\in \\R^n$ the vector $w$ which is perpendicular to the linear space _spanned_ by $u$ and $v$, i.e.,\n",
    "$$\n",
    "w \\perp \\text{span}\\{u, v\\}\n",
    "$$\n",
    "and whose magnitude is \n",
    "$$\n",
    "\\|w\\| = \\|u\\| \\|v\\| \\sin\\big(\\angle\\theta(u, v)\\big)\n",
    "$$"
   ]
  },
  {
   "cell_type": "code",
   "execution_count": 22,
   "id": "8a6c8895",
   "metadata": {
    "code_folding": []
   },
   "outputs": [
    {
     "data": {
      "application/vnd.jupyter.widget-view+json": {
       "model_id": "29deb5a821eb489bba63cd9c97a924ab",
       "version_major": 2,
       "version_minor": 0
      },
      "text/plain": [
       "interactive(children=(FloatSlider(value=0.0, description='u1', max=2.0, min=-2.0, step=0.5), FloatSlider(value…"
      ]
     },
     "metadata": {},
     "output_type": "display_data"
    }
   ],
   "source": [
    "@interact(u1=(-2, 2, 0.5), u2=(-2, 2, 0.5), v1=(-2, 2, 0.5), v2=(-2, 2, 0.5))\n",
    "def _(**kwargs): \n",
    "    plot_crossv(**kwargs)"
   ]
  },
  {
   "cell_type": "markdown",
   "id": "877b173d",
   "metadata": {
    "slideshow": {
     "slide_type": "slide"
    },
    "tags": []
   },
   "source": [
    "## §3.2: Linear Algebra on Vectors/Matrices"
   ]
  },
  {
   "cell_type": "markdown",
   "id": "abdef98a",
   "metadata": {},
   "source": [
    "The transformation of a vector $v \\in \\R^n$ by a matrix $A \\in \\R^{m \\times n}$ is another vector $w= f_A(v) = Av \\in \\R^m$ whose components are given by\n",
    "\n",
    "$$\n",
    "\\eq{\n",
    "    w_{1} &= \\sum_{j=1}^n A_{1j}v_{j}\\\\\n",
    "    w_{2} &= \\sum_{j=1}^n A_{2j}v_{j}\\\\\n",
    "    &\\vdots\\\\\n",
    "    w_{m} &= \\sum_{j=1}^n A_{mj}v_{j}\n",
    "}\n",
    "$$"
   ]
  },
  {
   "cell_type": "code",
   "execution_count": 20,
   "id": "db144994",
   "metadata": {},
   "outputs": [
    {
     "data": {
      "text/plain": [
       "array([[ 1., -1.],\n",
       "       [-1.,  1.]])"
      ]
     },
     "execution_count": 20,
     "metadata": {},
     "output_type": "execute_result"
    }
   ],
   "source": [
    "# declare matrix\n",
    "A = np.array([\n",
    "        [1.0, -1.0],\n",
    "        [-1.0, 1.0],\n",
    "    ])\n",
    "A"
   ]
  },
  {
   "cell_type": "code",
   "execution_count": 21,
   "id": "f0fa5460",
   "metadata": {},
   "outputs": [
    {
     "data": {
      "application/vnd.jupyter.widget-view+json": {
       "model_id": "ef81408f77ae4565a4d3748021819c35",
       "version_major": 2,
       "version_minor": 0
      },
      "text/plain": [
       "interactive(children=(FloatSlider(value=0.0, description='v1', max=3.5, min=-3.0, step=0.5), FloatSlider(value…"
      ]
     },
     "metadata": {},
     "output_type": "display_data"
    }
   ],
   "source": [
    "A = np.array([\n",
    "        [1.0, -2.0],\n",
    "        [-1.0, 1.0]\n",
    "    ])\n",
    "@interact(v1=(-3.0, 3.5, 0.5), v2=(-3.0, 3.5, 0.5), show_w=False)\n",
    "def _(**kwargs):\n",
    "    plot_Av(**kwargs)"
   ]
  },
  {
   "cell_type": "code",
   "execution_count": 23,
   "id": "fa646c55",
   "metadata": {},
   "outputs": [
    {
     "data": {
      "text/plain": [
       "array([[ 2, -2],\n",
       "       [-2,  2]])"
      ]
     },
     "execution_count": 23,
     "metadata": {},
     "output_type": "execute_result"
    }
   ],
   "source": [
    "# Action of a Matrix on a vector\n",
    "\n",
    "A = np.array([[1, -1], [-1, 1]])\n",
    "v = np.array([2,3])\n",
    "A @ v\n",
    "\n",
    "\n",
    "# Matrix-matrix product\n",
    "A @ A"
   ]
  },
  {
   "cell_type": "markdown",
   "id": "7b7e7d1c",
   "metadata": {},
   "source": [
    "## §3.3: Eigenvalues and Eigenvectors"
   ]
  },
  {
   "cell_type": "markdown",
   "id": "79c33416",
   "metadata": {},
   "source": [
    "Given a **square matrix** $A$, one might ask if there exists a vector $v$ such that\n",
    "\n",
    "$$\n",
    "Av = \\lambda v\n",
    "$$\n",
    "\n",
    "where $\\lambda$ is a scalar. \n",
    "\n",
    "That is, is there a vector $v$ associated with the matrix $A$ such that when $A$ is applied to $v$, the result is a scalar multiple of $v$?\n",
    "\n",
    "<br></br><br></br><br></br>\n",
    "<br></br><br></br><br></br>\n",
    "\n",
    "**Answer**: Yes, such vectors $v$ are called **eigenvectors** and the corresponding scalars $\\lambda$ are called **eigenvalues**. \n",
    "\n",
    "\n",
    "\n",
    "<br></br><br></br><br></br>\n",
    "<br></br><br></br><br></br>\n",
    "\n",
    "Every square $n\\times n$ matrix $A$ has $n$ eigenvectors \n",
    "$$\n",
    "v_1, v_2, \\dots v_n\n",
    "$$ \n",
    "and $n$ corresponding eigenvalues \n",
    "$$\n",
    "\\lambda_1, \\lambda_2, \\dots, \\lambda_n \\in \\mathbb{C} \\tag{General Matrix}\n",
    "$$ \n",
    "\n",
    "On the other hand, if the matrix $A$ is **symmetric**, then all the eigenvalues are real, i.e., \n",
    "\n",
    "$$\n",
    "\\lambda_1, \\lambda_2, \\dots, \\lambda_n \\in \\mathbb{R} \\tag{Symmetric Matrix}\n",
    "$$\n",
    "\n",
    "Furthermore, if the matrix $A$ is **positive definite**, then all the eigenvalues are positive, i.e.,\n",
    "\n",
    "$$\n",
    "\\lambda_1, \\lambda_2, \\dots, \\lambda_n > 0 \\tag{Symmetric, PD Matrix}\n",
    "$$"
   ]
  },
  {
   "cell_type": "code",
   "execution_count": 24,
   "id": "f2a57bce",
   "metadata": {},
   "outputs": [
    {
     "name": "stdout",
     "output_type": "stream",
     "text": [
      "Eigenvalues of A are \n",
      "[0.10491315 3.88694506]\n",
      "\n",
      "\n",
      "Eigenvectors of A are \n",
      "[[-0.89763828  0.44073294]\n",
      " [-0.44073294 -0.89763828]]\n",
      "\n",
      "\n"
     ]
    }
   ],
   "source": [
    "# Eigenvalues\n",
    "a = np.random.randn(2, 2)\n",
    "A = a @ a.T\n",
    "\n",
    "# compute eigenvalues\n",
    "eigenvalues, eigenvectors = np.linalg.eig(A)\n",
    "print(f'Eigenvalues of A are \\n{eigenvalues}\\n\\n')\n",
    "print(f'Eigenvectors of A are \\n{eigenvectors}\\n\\n')"
   ]
  },
  {
   "cell_type": "markdown",
   "id": "e0e6b958",
   "metadata": {},
   "source": [
    "Let's confirm that the eigenvectors truly satisfy the equation $Av = \\lambda v$."
   ]
  },
  {
   "cell_type": "code",
   "execution_count": 25,
   "id": "edbaf3f4",
   "metadata": {
    "code_folding": [
     1
    ]
   },
   "outputs": [
    {
     "data": {
      "application/vnd.jupyter.widget-view+json": {
       "model_id": "a9f8dede41f7441b9a1857e0089ba8d6",
       "version_major": 2,
       "version_minor": 0
      },
      "text/plain": [
       "interactive(children=(FloatSlider(value=0.25, description='v1', max=3.5, min=-3.0, step=0.25), FloatSlider(val…"
      ]
     },
     "metadata": {},
     "output_type": "display_data"
    }
   ],
   "source": [
    "@interact(v1=(-3.0, 3.5, 0.25), v2=(-3.0, 3.5, 0.25), i=(0, 1), show_evec=False, show_av=False)\n",
    "def _(**kwargs): \n",
    "    plot_evec_multiplication(**kwargs)"
   ]
  },
  {
   "cell_type": "markdown",
   "id": "7104c061",
   "metadata": {},
   "source": [
    "\n",
    "<br></br><br></br><br></br>\n",
    "<br></br><br></br><br></br>"
   ]
  },
  {
   "cell_type": "markdown",
   "id": "cb60d18d",
   "metadata": {},
   "source": [
    "Properties of eigenvalues and eigenvectors:\n",
    "\n",
    "1. The sum of the eigenvalues of a matrix is equal to the trace of the matrix, i.e.,\n",
    "$$\n",
    "\\sum_{i=1}^n \\lambda_i = \\text{trace}(A)\n",
    "$$\n",
    "\n",
    "2. The product of the eigenvalues of a matrix is equal to the determinant of the matrix, i.e.,\n",
    "$$\n",
    "\\prod_{i=1}^n \\lambda_i = \\text{det}(A)\n",
    "$$\n",
    "\n",
    "3. The rank of a matrix is equal to the number of non-zero eigenvalues\n",
    "$$\n",
    "\\text{rank}(A) = \\text{number of non-zero eigenvalues}\n",
    "$$\n",
    "\n",
    "4. The eigenvectors are orthonormal\n",
    "$$\\eq{\n",
    "v_i\\tr v_j = 0 &\\text{ if } i \\neq j\\\\\n",
    "v_i\\tr v_j = 1 &\\text{ if } i = j\n",
    "}$$"
   ]
  },
  {
   "cell_type": "markdown",
   "id": "5da3f116",
   "metadata": {},
   "source": [
    "## §3.3: The most important use of matrices"
   ]
  },
  {
   "cell_type": "markdown",
   "id": "df600808",
   "metadata": {},
   "source": [
    "An $n \\times m$ **matrix** $A$, is used to encode a system of $n$ linear equations in $m$ unknowns as follows:\n",
    "\n",
    "\n",
    "Consider $4$ unknown variables satisfying a system of $4$ linear equations given by\n",
    "\n",
    "$$\n",
    "\\begin{aligned}\n",
    "10 &= a + 2b + 3c + 4d\\\\\n",
    "9 &= 2a + 10b - 2c + 2d\\\\\n",
    "11 &= -a + b + 10c - 4d\\\\\n",
    "1 &= 3a - 2b + c/2 + d\n",
    "\\end{aligned}\n",
    "$$\n",
    "\n",
    "\n",
    "<br></br><br></br><br></br>\n",
    "<br></br><br></br><br></br>\n",
    "\n",
    "\n",
    "This is equivalently given by:\n",
    "\n",
    "$$\n",
    "b = A x\n",
    "$$\n",
    "\n",
    "where\n",
    "\n",
    "\n",
    "<br></br><br></br><br></br>\n",
    "<br></br><br></br><br></br>\n",
    "\n",
    "\n",
    "$$\n",
    "b = \n",
    "\\begin{pmatrix}\n",
    "10 \\\\\n",
    "9 \\\\\n",
    "11\\\\\n",
    "1\n",
    "\\end{pmatrix}\n",
    "\\quad \n",
    "A = \n",
    "\\begin{pmatrix}\n",
    "1  &  2    & 3 & 4\\\\\n",
    "2  &  10   & - 2 & 2\\\\\n",
    "-1 &  1    & 10 & -4\\\\\n",
    "3   & -2   & 1/2 & 1\n",
    "\\end{pmatrix}\n",
    "\\quad\n",
    "x = \\begin{pmatrix}\n",
    "a \\\\\n",
    "b \\\\\n",
    "c\\\\\n",
    "d\n",
    "\\end{pmatrix}\n",
    "$$\n",
    "\n",
    "\n",
    "<br></br><br></br><br></br>\n",
    "<br></br><br></br><br></br>\n",
    "\n",
    "\n",
    "The solution for $x$ is, then, given by\n",
    "\n",
    "$$\n",
    "\\boxed{x = A^{-1}b}\n",
    "$$\n",
    "\n",
    "\n",
    "\n",
    "<br></br><br></br><br></br>\n",
    "<br></br><br></br><br></br>\n"
   ]
  },
  {
   "cell_type": "code",
   "execution_count": 26,
   "id": "148c8236",
   "metadata": {},
   "outputs": [
    {
     "name": "stdout",
     "output_type": "stream",
     "text": [
      " inv(A) @ b = [0.61588181 0.89012004 1.4099723  0.8434903 ]\n",
      " solve(A, b) = [0.61588181 0.89012004 1.4099723  0.8434903 ]\n"
     ]
    }
   ],
   "source": [
    "b = np.array([10, 9, 11, 1])\n",
    "\n",
    "A = np.array([\n",
    "    [1, 2, 3, 4],\n",
    "    [2, 10, -2, 2],\n",
    "    [-1, 1, 10, -4],\n",
    "    [2, -2, 1/2, 1],\n",
    "])\n",
    "\n",
    "\n",
    "# two ways of solving for x\n",
    "print(f' inv(A) @ b = {np.linalg.inv(A) @ b}')\n",
    "print(f' solve(A, b) = {np.linalg.solve(A, b)}')"
   ]
  },
  {
   "cell_type": "markdown",
   "id": "6f2e1b85",
   "metadata": {
    "slideshow": {
     "slide_type": "slide"
    },
    "tags": []
   },
   "source": [
    "## §3.2 Data Summarization"
   ]
  },
  {
   "cell_type": "code",
   "execution_count": 27,
   "id": "32615514",
   "metadata": {},
   "outputs": [
    {
     "data": {
      "text/plain": [
       "4.0"
      ]
     },
     "execution_count": 27,
     "metadata": {},
     "output_type": "execute_result"
    }
   ],
   "source": [
    "# Mean function is exported by numpy\n",
    "?np.mean\n",
    "\n",
    "\n",
    "# It is available to the class of np.arrays\n",
    "x = np.random.rand(10)\n",
    "np.mean(x)\n",
    "\n",
    "\n",
    "# Numpy implicitly applies the operation to the class of base python lists\n",
    "y = [1, 2, 3, 4, 5, 6, 7]\n",
    "np.mean(y) # converts it to np.array and then computes mean\n"
   ]
  },
  {
   "cell_type": "code",
   "execution_count": 28,
   "id": "bca44840",
   "metadata": {},
   "outputs": [
    {
     "name": "stdout",
     "output_type": "stream",
     "text": [
      "row means  = [2. 5. 8.]\n",
      "column means = [4. 5. 6.]\n"
     ]
    }
   ],
   "source": [
    "# Row-wise and column-wise means\n",
    "A = np.array([\n",
    "    [1,2,3],\n",
    "    [4,5,6],\n",
    "    [7,8,9]\n",
    "])\n",
    "\n",
    "print(f'row means  = {A.mean(axis=1)}')\n",
    "print(f'column means = {A.mean(axis=0)}')"
   ]
  },
  {
   "cell_type": "markdown",
   "id": "50a02054",
   "metadata": {
    "slideshow": {
     "slide_type": "slide"
    },
    "tags": []
   },
   "source": [
    "## §3.3 What Python Knows in this session"
   ]
  },
  {
   "cell_type": "code",
   "execution_count": 29,
   "id": "e003205a",
   "metadata": {
    "slideshow": {
     "slide_type": ""
    },
    "tags": []
   },
   "outputs": [
    {
     "name": "stdout",
     "output_type": "stream",
     "text": [
      "A\t a\t b\t eigenvalues\t eigenvectors\t fib\t fibonacci\t fixed\t i\t \n",
      "interact\t interact_manual\t interactive\t ipywidgets\t json\t k\t math\t n\t np\t \n",
      "pd\t plot_Av\t plot_crossv\t plot_dotv\t plot_evec_multiplication\t plot_v\t plot_vw\t plt\t v\t \n",
      "w\t x\t y\t yapf_reformat\t \n"
     ]
    }
   ],
   "source": [
    "%who"
   ]
  },
  {
   "cell_type": "markdown",
   "id": "86b31838",
   "metadata": {
    "slideshow": {
     "slide_type": "slide"
    },
    "tags": []
   },
   "source": [
    "#### §3.4.1 Deleting variables from workspace"
   ]
  },
  {
   "cell_type": "code",
   "execution_count": 30,
   "id": "97f3636d",
   "metadata": {},
   "outputs": [],
   "source": [
    "# del(A, x)"
   ]
  },
  {
   "cell_type": "markdown",
   "id": "fa277ad9",
   "metadata": {},
   "source": [
    "---"
   ]
  }
 ],
 "metadata": {
  "celltoolbar": "Slideshow",
  "hide_input": false,
  "kernelspec": {
   "display_name": "Python 3 (ipykernel)",
   "language": "python",
   "name": "python3"
  },
  "language_info": {
   "codemirror_mode": {
    "name": "ipython",
    "version": 3
   },
   "file_extension": ".py",
   "mimetype": "text/x-python",
   "name": "python",
   "nbconvert_exporter": "python",
   "pygments_lexer": "ipython3",
   "version": "3.12.1"
  },
  "toc": {
   "base_numbering": 1,
   "nav_menu": {},
   "number_sections": true,
   "sideBar": true,
   "skip_h1_title": false,
   "title_cell": "Table of Contents",
   "title_sidebar": "Contents",
   "toc_cell": false,
   "toc_position": {},
   "toc_section_display": true,
   "toc_window_display": false
  }
 },
 "nbformat": 4,
 "nbformat_minor": 5
}
