{
 "cells": [
  {
   "cell_type": "markdown",
   "id": "f5699a71",
   "metadata": {
    "tags": []
   },
   "source": [
    "# Week 1 Summary\n",
    "> NAME: $\\color{red}{\\text{    Mia Jerphagnon     }}$\n",
    "> \n",
    "> PID: $\\color{red}{\\text{    A16821297     }}$\n",
    ">\n",
    "> \n",
    "---"
   ]
  },
  {
   "cell_type": "markdown",
   "id": "b0e61ba4-c23c-44b6-8933-ad5c5013a12d",
   "metadata": {},
   "source": [
    "I certify that the following write-up is my own work, and have abided by the UCSD Academic Integrity Guidelines.\n",
    "\n",
    "- [x] Yes\n",
    "- [ ] No"
   ]
  },
  {
   "cell_type": "markdown",
   "id": "2e3d69d4-fc3b-467c-867a-232ea44b034d",
   "metadata": {},
   "source": [
    "---"
   ]
  },
  {
   "cell_type": "markdown",
   "id": "de700466",
   "metadata": {},
   "source": [
    "## Key Takeaways from Week 1"
   ]
  },
  {
   "cell_type": "markdown",
   "id": "e89169e3",
   "metadata": {},
   "source": [
    "The markdown cell is a versatile environment that allows for explanation, analysis, and math to be shown alongside code. Using markdown is intuitive, for example, when writing bullet points and lists. Markdown conveniently allows for LaTeX expressions, including those inline. From subscripts to sum functions, LaTeX has it all. \n",
    "\n",
    "Vectors and matrices allow us to think about multidimensional space and data in a clean, mathematical way. Vectors are objects of both direction and magnitute. Matrices can represent the lefthand side of a system of equations. They are also functions that can input a vector and output another vector. You can also think of vectors as matrices, but with only one column. \n",
    "\n",
    "Vectors and matrices can interact with each other algebraically. The dot product of two vectors is the sum of the element-wise products. A matrix can act on a vector which can be represented by matrix multiplication $Av$. In code, we can also write `A @ v`. \n",
    "\n",
    "To solve a system of equations, you can initialize matrix $A$ and vector $b$, and then use `numpy.linalg.solve(A, v)` in order to solve for x in $ Ax = b $. "
   ]
  },
  {
   "cell_type": "markdown",
   "id": "5928a1a1",
   "metadata": {},
   "source": [
    "---"
   ]
  },
  {
   "cell_type": "markdown",
   "id": "d9ac3593",
   "metadata": {},
   "source": [
    "## Thu, Apr 4th"
   ]
  },
  {
   "cell_type": "markdown",
   "id": "50aa8ef5",
   "metadata": {},
   "source": [
    "### Basics of markdown"
   ]
  },
  {
   "cell_type": "markdown",
   "id": "aa7c1972",
   "metadata": {},
   "source": [
    "**Bullet Lists and Numbered Lists**"
   ]
  },
  {
   "cell_type": "markdown",
   "id": "cc8ed428-4dbd-4aa3-bccb-555da5210bd3",
   "metadata": {},
   "source": [
    "* Main bullet point\n",
    "    - Indented bullet point\n",
    "1. First list item\n",
    "2. Second list item"
   ]
  },
  {
   "cell_type": "markdown",
   "id": "dd300ee4",
   "metadata": {},
   "source": [
    "**Math**"
   ]
  },
  {
   "cell_type": "markdown",
   "id": "0512746a-c293-421b-9294-dccba87fab12",
   "metadata": {},
   "source": [
    "This is an in-line math expression $ x^2_1 + \\omega = 2 $. <br>\n",
    "These are outside math expressions:\n",
    "$$ \n",
    "\\overline{X} = \\frac{1}{n}\\sum_{i=1}^n X_i \\\\\n",
    "$$\n",
    "$$\n",
    "\\text{Var}(X) = \\frac{1}{n-1} \\sum_{i=1}^n (X_i - \\overline{X}) \\\\\n",
    "$$"
   ]
  },
  {
   "cell_type": "markdown",
   "id": "493984b6",
   "metadata": {},
   "source": [
    "**Boxed & Colored Equations**"
   ]
  },
  {
   "cell_type": "markdown",
   "id": "b3131522-a5e2-4fdb-b6c9-34859c10143f",
   "metadata": {},
   "source": [
    "Sample mean:\n",
    "$$\n",
    "\\color{blue} \\boxed{\\frac{1}{n}\\sum_{i=1}^n X_i = \\overline{X}}\n",
    "$$"
   ]
  },
  {
   "cell_type": "markdown",
   "id": "365246bd",
   "metadata": {},
   "source": [
    "**Math Macros**"
   ]
  },
  {
   "cell_type": "markdown",
   "id": "d99db401-b7bb-42dc-bfa4-2ea0b34a2b7c",
   "metadata": {},
   "source": [
    "$$\n",
    "\\newcommand{\\newsum}[2]{\\sum_{i=#1}^{#2}}\n",
    "\\newsum{0}{m} a_i\n",
    "$$\n",
    "$$\n",
    "\\newcommand{\\Xn}{X_1, X_2, \\cdots, X_n}\n",
    "\\newcommand{\\Ho}{H_0}\n",
    "\\Xn \\text{is sampled iid from a distribution } \\Ho\n",
    "$$"
   ]
  },
  {
   "cell_type": "markdown",
   "id": "9ac6260b-37b5-4db9-a31c-cfaf25c23606",
   "metadata": {},
   "source": [
    "**Int, Float, Booleans, and Strings**"
   ]
  },
  {
   "cell_type": "code",
   "execution_count": 1,
   "id": "97cba7b9",
   "metadata": {},
   "outputs": [
    {
     "name": "stdout",
     "output_type": "stream",
     "text": [
      "7\n",
      "<class 'int'>\n",
      "(True, False)\n"
     ]
    }
   ],
   "source": [
    "print(int(7.1)) #convert float to integer\n",
    "print(type(7)) #find the type\n",
    "print((True, False)) #booleans start with capital letters"
   ]
  },
  {
   "cell_type": "markdown",
   "id": "82e323b3-52df-4f54-8f97-3c26b34d48c8",
   "metadata": {},
   "source": [
    "**Arithmetic Operations (+, -, /, %, //, \\*)**"
   ]
  },
  {
   "cell_type": "code",
   "execution_count": 2,
   "id": "c0fcb17a-dec4-4551-81f5-5a60ab4ce49a",
   "metadata": {},
   "outputs": [
    {
     "name": "stdout",
     "output_type": "stream",
     "text": [
      "6\n",
      "1\n",
      "28561\n"
     ]
    }
   ],
   "source": [
    "print(13//2) #Integer division\n",
    "print(13%4) #Modulo operator\n",
    "print(13**4) #Exponential"
   ]
  },
  {
   "cell_type": "markdown",
   "id": "130937f7-394b-4a1f-b4ed-3c92962ded89",
   "metadata": {},
   "source": [
    "**Arrays, Tuples, Dicts**"
   ]
  },
  {
   "cell_type": "code",
   "execution_count": 3,
   "id": "7222a086-c139-4d69-8af8-c6cad039d322",
   "metadata": {},
   "outputs": [
    {
     "data": {
      "text/plain": [
       "[1, 2, 3, 4, 5, 6]"
      ]
     },
     "execution_count": 3,
     "metadata": {},
     "output_type": "execute_result"
    }
   ],
   "source": [
    "# Arrays are dynamic\n",
    "[1, 2, 3] + [4, 5, 6]"
   ]
  },
  {
   "cell_type": "code",
   "execution_count": 4,
   "id": "4471674b-5a37-4944-938a-232405d07988",
   "metadata": {},
   "outputs": [
    {
     "data": {
      "text/plain": [
       "(1, 2, 3)"
      ]
     },
     "execution_count": 4,
     "metadata": {},
     "output_type": "execute_result"
    }
   ],
   "source": [
    "# Tuples have a fixed size\n",
    "(1, 2, 3)"
   ]
  },
  {
   "cell_type": "code",
   "execution_count": 5,
   "id": "1cfd435b-f4ee-40ef-8da6-d52298c8cbb8",
   "metadata": {},
   "outputs": [
    {
     "name": "stdout",
     "output_type": "stream",
     "text": [
      "k=a, v=1\n",
      "k=b, v=2\n",
      "k=c, v=3.141592653589793\n"
     ]
    }
   ],
   "source": [
    "# Dictionary\n",
    "import math\n",
    "for k, v in {\"a\":1, \"b\":2, \"c\":math.pi}.items():\n",
    "    print(f'k={k}, v={v}')"
   ]
  },
  {
   "cell_type": "code",
   "execution_count": 6,
   "id": "22d5739b-aa58-4616-b49a-adc2c59efeab",
   "metadata": {},
   "outputs": [
    {
     "data": {
      "text/plain": [
       "{1, 2, 3, 7}"
      ]
     },
     "execution_count": 6,
     "metadata": {},
     "output_type": "execute_result"
    }
   ],
   "source": [
    "# Set\n",
    "a = {1, 2, 3, 4, 4, 5}\n",
    "b = {4, 5, 7}\n",
    "a.symmetric_difference(b)"
   ]
  },
  {
   "cell_type": "markdown",
   "id": "4f4a1da8-557c-4df1-aa0c-f7232343f97e",
   "metadata": {},
   "source": [
    "**Anonymous Functions**"
   ]
  },
  {
   "cell_type": "code",
   "execution_count": 7,
   "id": "b3ffc7c3-0140-432f-babd-b955dad05ba9",
   "metadata": {},
   "outputs": [],
   "source": [
    "fib = lambda n: 0 if n==0 else 1 if n==1 else fib(n-1) + fib(n-2)"
   ]
  },
  {
   "cell_type": "markdown",
   "id": "ad2d56af",
   "metadata": {},
   "source": [
    "**Vectors**"
   ]
  },
  {
   "cell_type": "markdown",
   "id": "cd061a46-522d-41f2-b875-4d0baec5d358",
   "metadata": {},
   "source": [
    "A vector represents an object in multidimensional space with direction and magnitude. \n",
    "In other words, a vector $ v \\in \\mathbb{R}^n $ represents a point \n",
    "\n",
    "$$\n",
    "v = (v_1, v_2, \\dots, v_n)^\\intercal\n",
    "$$\n",
    "\n",
    "in $n$-dimensional space where each $v_i$ is a number."
   ]
  },
  {
   "cell_type": "markdown",
   "id": "b4e81673",
   "metadata": {},
   "source": [
    "When you add two vectors you sum the elements in each position.\n",
    "$$\n",
    "v+w = (v_1 + w_1, v_2 + w_2, \\dots, v_n + w_n)^\\intercal\n",
    "$$"
   ]
  },
  {
   "cell_type": "code",
   "execution_count": 8,
   "id": "34f2f2bc-67db-4c43-830a-5044f34a86a0",
   "metadata": {},
   "outputs": [
    {
     "name": "stdout",
     "output_type": "stream",
     "text": [
      "[2 4 6]\n"
     ]
    }
   ],
   "source": [
    "# %pip install numpy\n",
    "import numpy as np\n",
    "\n",
    "v = np.array([1, 2, 3])\n",
    "w = np.array([1, 2, 3])\n",
    "print(v + w)"
   ]
  },
  {
   "cell_type": "markdown",
   "id": "215464eb",
   "metadata": {},
   "source": [
    "When you multiply a vector by a scalar, you multiply the elements in each position by the scalar: \n",
    "$$\n",
    "cv = (cv_1, cv_2 + cv_2, \\dots, cv_n)^\\intercal\n",
    "$$"
   ]
  },
  {
   "cell_type": "code",
   "execution_count": 9,
   "id": "66a50c3c-8ba7-4f91-be9b-2b7f998051e8",
   "metadata": {},
   "outputs": [
    {
     "data": {
      "text/plain": [
       "array([3, 6, 9])"
      ]
     },
     "execution_count": 9,
     "metadata": {},
     "output_type": "execute_result"
    }
   ],
   "source": [
    "v = np.array([1, 2, 3])\n",
    "v*3"
   ]
  },
  {
   "cell_type": "markdown",
   "id": "be1dd332",
   "metadata": {},
   "source": [
    "You can \"multiply\" two vectors in two different ways:\n",
    "\n",
    "1. The **dot product** of two vectors $ u, v \\in \\mathbb{R}^n $ is the sum of the element-wise product\n",
    "$$\n",
    "u \\cdot v = \\sum_{i=1}^n u_i v_i\n",
    "$$\n",
    "The geometric interpretation of the dot product is given by\n",
    "$$\n",
    "u \\cdot v = \\|{u}\\| \\|{v}\\| \\cos\\Big(\\angle \\theta(u, v)\\Big) \n",
    "$$\n",
    "2. The **cross product** of two vectors $u, v \\in \\mathbb{R}^n$ the vector $w$ which is perpendicular to the linear space _spanned_ by $u$ and $v$, i.e.,\n",
    "$$\n",
    "w \\perp \\text{span}\\{u, v\\}\n",
    "$$\n",
    "and whose magnitude is \n",
    "$$\n",
    "\\|w\\| = \\|u\\| \\|v\\| \\sin\\big(\\angle\\theta(u, v)\\big)\n",
    "$$"
   ]
  },
  {
   "cell_type": "markdown",
   "id": "58b01417",
   "metadata": {},
   "source": [
    "**Matrices**"
   ]
  },
  {
   "cell_type": "markdown",
   "id": "7ce37d95-6cd1-4bf0-bd7c-31787e191df6",
   "metadata": {},
   "source": [
    "Intuitively, a matrix is a way of expressing a system of equations where we take away the variables and put the entire system in square brackets. According to the professor, you can also think of a matrix as a function that takes a vector and produces another vector."
   ]
  },
  {
   "cell_type": "code",
   "execution_count": 10,
   "id": "27cef97f",
   "metadata": {},
   "outputs": [
    {
     "name": "stdout",
     "output_type": "stream",
     "text": [
      "[[ 1.  1.]\n",
      " [-1. -1.]\n",
      " [-1. -1.]]\n"
     ]
    }
   ],
   "source": [
    "# Creating vectors and matrices\n",
    "vector = np.array([1.0, -1.0])\n",
    "matrix = np.array([\n",
    "    [1.0, -1.0],\n",
    "    [-1.0, 1.0], \n",
    "    [-1.0, 1.0], \n",
    "    ]) \n",
    "\n",
    "# Calculating the product\n",
    "product = vector * matrix\n",
    "print(product)"
   ]
  },
  {
   "cell_type": "markdown",
   "id": "95f7007f",
   "metadata": {},
   "source": [
    "When a matrix acts on a vector, you get ..."
   ]
  },
  {
   "cell_type": "code",
   "execution_count": 11,
   "id": "1cf7211d-5599-4751-b167-2f5b6ac1f8d9",
   "metadata": {},
   "outputs": [
    {
     "name": "stdout",
     "output_type": "stream",
     "text": [
      "[-1  1]\n",
      "[[ 2 -2]\n",
      " [-2  2]]\n"
     ]
    }
   ],
   "source": [
    "# Action of a matrix on a vector\n",
    "A = np.array([[1, -1], [-1, 1]])\n",
    "v = np.array([2,3])\n",
    "print(A @ v)\n",
    "\n",
    "# Matrix-matrix product\n",
    "print(A @ A)"
   ]
  },
  {
   "cell_type": "markdown",
   "id": "b0659f26",
   "metadata": {},
   "source": [
    "**Basic linear algebra operations:**\n",
    "1. Norm: Given a vector, its norm is a vector with the same direction, but a magnitute of 1. \n",
    "2. Dot product: As explained earlier, it is the vector where each element is the sum of the elements in each position of the two vectors. \n",
    "4. Matrix transpose: Given a matrix, rows become columns and vice versa.\n",
    "5. Matrix inverse: Given a matrix $A$, its inverse is the matrix $A^{-1}$ such that $ AA^{-1} = I $."
   ]
  },
  {
   "cell_type": "markdown",
   "id": "334f2192",
   "metadata": {},
   "source": [
    "**Slightly more advanced linear algebra operations**"
   ]
  },
  {
   "cell_type": "markdown",
   "id": "3d968462",
   "metadata": {},
   "source": [
    "If we're given a system of equations, for example, \n",
    "\n",
    "$$\n",
    "\\begin{align*}\n",
    "2x + 3y &= 5 \\\\\n",
    "4x + 5y &= 6\n",
    "\\end{align*}\n",
    "$$\n",
    "\n",
    "We can represent it in the matrix-vector form as\n",
    "$$\n",
    "b = \n",
    "\\begin{pmatrix}\n",
    "5 \\\\\n",
    "6 \\\\\n",
    "\\end{pmatrix}\n",
    "\\quad \n",
    "A = \n",
    "\\begin{pmatrix}\n",
    "2 & 3 \\\\\n",
    "4 & 5 \\\\\n",
    "\\end{pmatrix}\n",
    "$$"
   ]
  },
  {
   "cell_type": "markdown",
   "id": "5be358a9",
   "metadata": {},
   "source": [
    "The solution for the unknown variables, $(x, y)$ is given by\n",
    "$$\n",
    "v = \\begin{pmatrix}\n",
    "x \\\\\n",
    "y \\\\\n",
    "\\end{pmatrix}\n",
    "$$"
   ]
  },
  {
   "cell_type": "markdown",
   "id": "f07d95f8",
   "metadata": {},
   "source": [
    "In code, we can do this as follows: ..."
   ]
  },
  {
   "cell_type": "code",
   "execution_count": 12,
   "id": "17da9f42",
   "metadata": {},
   "outputs": [
    {
     "name": "stdout",
     "output_type": "stream",
     "text": [
      "[-3.5  4. ]\n"
     ]
    }
   ],
   "source": [
    "# Solving a system of linear equations\n",
    "A = np.array([\n",
    "    [2.0, 3.0],\n",
    "    [4.0, 5.0],\n",
    "    ])\n",
    "b = np.array([5, 6])\n",
    "solution = np.linalg.solve(A,b)\n",
    "print(solution)"
   ]
  },
  {
   "cell_type": "markdown",
   "id": "f14cb893",
   "metadata": {},
   "source": [
    "---"
   ]
  },
  {
   "cell_type": "markdown",
   "id": "4c3c84c6",
   "metadata": {},
   "source": [
    "**Eigenvalues and eigenvectors**"
   ]
  },
  {
   "cell_type": "markdown",
   "id": "2f086932",
   "metadata": {},
   "source": [
    "Given an $n \\times n$ matrix $A$, the eigenvalue of $A$ is the scalar $\\lambda$ such that $ Av=\\lambda v $ where $\\lambda$ is a scalar. "
   ]
  },
  {
   "cell_type": "markdown",
   "id": "c4662cd0",
   "metadata": {},
   "source": [
    "The eigenvector of $A$ is the vector $v$ such that when $A$ is applied to $v$, the result is a scalar multiple of $v$."
   ]
  },
  {
   "cell_type": "markdown",
   "id": "48e779b5",
   "metadata": {},
   "source": [
    "Intuitively, the eigenvector of a matrix describes a vector which is fixed in direction under a given linear transformation. "
   ]
  },
  {
   "cell_type": "markdown",
   "id": "6f3eb584",
   "metadata": {},
   "source": [
    "In code, we can compute the eigenvalues and eigenvectors of a matrix as follows:"
   ]
  },
  {
   "cell_type": "code",
   "execution_count": 13,
   "id": "14936c12",
   "metadata": {},
   "outputs": [
    {
     "name": "stdout",
     "output_type": "stream",
     "text": [
      "Eigenvalues of A are \n",
      "[0.05226596 2.7059382 ]\n",
      "\n",
      "\n",
      "Eigenvectors of A are \n",
      "[[-0.75006369  0.6613656 ]\n",
      " [-0.6613656  -0.75006369]]\n",
      "\n",
      "\n"
     ]
    }
   ],
   "source": [
    "# Eigenvalues\n",
    "a = np.random.randn(2, 2)\n",
    "A = a @ a.T\n",
    "\n",
    "# Compute eigenvalues\n",
    "eigenvalues, eigenvectors = np.linalg.eig(A)\n",
    "print(f'Eigenvalues of A are \\n{eigenvalues}\\n\\n')\n",
    "print(f'Eigenvectors of A are \\n{eigenvectors}\\n\\n')"
   ]
  },
  {
   "cell_type": "markdown",
   "id": "b11ff8bf",
   "metadata": {},
   "source": [
    "We can verify that the eigenvalues and eigenvectors are correct by running the following code and ensuring that the output matches the expected values:\n"
   ]
  },
  {
   "cell_type": "code",
   "execution_count": 14,
   "id": "226d378c",
   "metadata": {},
   "outputs": [
    {
     "data": {
      "text/plain": [
       "True"
      ]
     },
     "execution_count": 14,
     "metadata": {},
     "output_type": "execute_result"
    }
   ],
   "source": [
    "lambda1 = 4 #Largest eigenvalue\n",
    "A = np.array([[2, 2], [1, 3]])\n",
    "v1 = np.array([1, 1]) #Corresponding eigenvector\n",
    "              \n",
    "# Expected value of Av\n",
    "expected_value = np.array([4, 4])\n",
    "\n",
    "# Actual value of Av\n",
    "Av = A @ v1\n",
    "\n",
    "# Check if the expected value and actual value are equal\n",
    "np.allclose(expected_value, Av)"
   ]
  }
 ],
 "metadata": {
  "kernelspec": {
   "display_name": "Python 3 (ipykernel)",
   "language": "python",
   "name": "python3"
  },
  "language_info": {
   "codemirror_mode": {
    "name": "ipython",
    "version": 3
   },
   "file_extension": ".py",
   "mimetype": "text/x-python",
   "name": "python",
   "nbconvert_exporter": "python",
   "pygments_lexer": "ipython3",
   "version": "3.12.1"
  }
 },
 "nbformat": 4,
 "nbformat_minor": 5
}
